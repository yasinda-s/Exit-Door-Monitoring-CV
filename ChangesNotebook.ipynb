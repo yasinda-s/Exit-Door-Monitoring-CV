{
 "cells": [
  {
   "cell_type": "code",
   "execution_count": 1,
   "id": "3a280f5e",
   "metadata": {},
   "outputs": [],
   "source": [
    "#sets a virtually accurate ROI for the exit area AND door and counts the number of people within the region\n",
    "import os\n",
    "import cv2\n",
    "from ultralytics import YOLO\n",
    "from tracker import Tracker\n",
    "import numpy as np\n",
    "\n",
    "#setup video, cap_out, yolo and deepsort\n",
    "video_path = os.path.join('.', 'data', 'CCTV_in.mp4')\n",
    "video_out_path = os.path.join('.', 'CCTV_out.mp4')\n",
    "\n",
    "cap = cv2.VideoCapture(video_path)\n",
    "ret, frame = cap.read()\n",
    "\n",
    "cap_out = cv2.VideoWriter(video_out_path, cv2.VideoWriter_fourcc(*'mp4v'), cap.get(cv2.CAP_PROP_FPS),\n",
    "                          (1280, 720))\n",
    "\n",
    "model = YOLO(\"yolov8n.pt\") \n",
    "tracker = Tracker()\n",
    "detection_threshold = 0.3\n",
    "people_movement = {} #dictionary for tracking people - use this to check if the person is incoming or outgoing the exit\n",
    "frame_count = 0"
   ]
  },
  {
   "cell_type": "code",
   "execution_count": 10,
   "id": "2f3af38c",
   "metadata": {},
   "outputs": [],
   "source": [
    "\n",
    "#function for exit door\n",
    "def exitDoorROI(frame):\n",
    "    roi_vertices = np.array([[710, 31], [810,36], [790,220], [700, 215]], np.int32)\n",
    "    roi_x = 700\n",
    "    roi_y = 36\n",
    "    cv2.polylines(frame, [roi_vertices], True, (0, 0, 255), 1)\n",
    "    cv2.putText(frame, \"Exit Door\", (roi_x, roi_y - 10), cv2.FONT_HERSHEY_COMPLEX_SMALL, 1, (0, 0, 255), 1)\n",
    "    # frame_count += 1\n",
    "    return roi_vertices\n",
    "\n",
    "#function for exit area ROI\n",
    "def exitAreaROI():\n",
    "    roi_vertices = np.array([[520, 340], [640,220], [800,230], [783, 380]], np.int32)\n",
    "    return roi_vertices\n",
    "\n",
    "#function for detecting people (if feet within exit area)\n",
    "def peopleDetectionYOLO(frame, exitAreaVertices, exitDoorVertices):\n",
    "    results = model(frame)\n",
    "    detections = []\n",
    "    human_area_count = 0\n",
    "    human_door_count = 0\n",
    "\n",
    "    for result in results:\n",
    "        for r in result.boxes.data.tolist():\n",
    "            x1, y1, x2, y2, score, class_id = r #top left and bottom right coordinates of each object\n",
    "            x1, x2, y1, y2 = int(x1), int(x2), int(y1), int(y2)\n",
    "            class_id = int(class_id)\n",
    "            if class_id==0 and score>=detection_threshold:\n",
    "                    feet_coordinates = (((x1+x2)/2), y2-5)\n",
    "                    if cv2.pointPolygonTest(exitAreaVertices, feet_coordinates, False) > 0:\n",
    "                        human_area_count += 1\n",
    "                    if cv2.pointPolygonTest(exitDoorVertices, feet_coordinates, False) > 0:\n",
    "                        human_door_count += 1\n",
    "                    detections.append([x1, y1, x2, y2, score])\n",
    "\n",
    "    cv2.putText(frame, f\"Workers in exit area: {human_area_count}\", (5, 25), cv2.FONT_HERSHEY_TRIPLEX, 1, (255, 255, 255), 1)\n",
    "    cv2.putText(frame, f\"Workers through exit door: {human_door_count}\", (5, 60), cv2.FONT_HERSHEY_TRIPLEX, 1, (255, 255, 255), 1)\n",
    "    return detections\n",
    "\n",
    "#function for tracking people\n",
    "def peopleTrackingDeepSort(frame, detections, exitDoorVertices, exitAreaVertices):\n",
    "    tracker.update(frame, detections)\n",
    "    for track in tracker.tracks:\n",
    "        bbox = track.bbox\n",
    "        x1, y1, x2, y2 = bbox\n",
    "        track_id = track.track_id\n",
    "\n",
    "        if track_id not in people_movement:\n",
    "            people_movement[track_id] = []\n",
    "        else:\n",
    "            people_movement[track_id].append([x1, y1, x2, y2])\n",
    "\n",
    "        if isPersonEntering(exitDoorVertices, exitAreaVertices, track_id):\n",
    "            print(f\"Person {track_id} is entering the exit area\")\n",
    "\n",
    "        #check why personexiting is not working\n",
    "\n",
    "        # print(people_movement)\n",
    "\n",
    "        cv2.rectangle(frame, (int(x1), int(y1)), (int(x2), int(y2)), (255,255,255), 1)\n",
    "        label = f\"Staff Worker {track_id}\"\n",
    "        cv2.putText(frame, label, (int(x1), int(y1) - 10), cv2.FONT_HERSHEY_SIMPLEX, 0.5, (0,255,0), 2)\n",
    "        \n",
    "def isPersonEntering(exitDoorVertices, exitAreaVertices, track_id): #Check why this is not working, this works now, check why\n",
    "    last_coordinates = people_movement.get(track_id, [])[-10:]\n",
    "    if len(last_coordinates) < 2:\n",
    "        return False\n",
    "    feet_coordinates = []\n",
    "    for coordinate in last_coordinates:\n",
    "        feet_coordinates.append(((coordinate[0] + coordinate[2]) / 2, coordinate[3] - 5))\n",
    "\n",
    "    print(track_id, \" \", feet_coordinates) #this is working properly\n",
    "    print(track_id, \" current coordinate\", feet_coordinates[-1]) #this is working properly\n",
    "    print(track_id, \" previous coordinate\", feet_coordinates[-2]) #this is working properly\n",
    "\n",
    "\n",
    "    if cv2.pointPolygonTest(exitAreaVertices, feet_coordinates[-1], False) > 0:\n",
    "        if cv2.pointPolygonTest(exitDoorVertices, feet_coordinates[-2], False) > 0:\n",
    "            return True\n",
    "    return False\n",
    "\n",
    "# def isPersonEntering(exitDoorVertices, exitAreaVertices, track_id): #Check why this is not working, this works now, check why\n",
    "#     # Get the last 10 coordinates of the person based on track\n",
    "#     last_coordinates = people_movement.get(track_id, [])[-10:]\n",
    "#     # Check if there are at least 2 coordinates to compare\n",
    "#     if len(last_coordinates) < 2:\n",
    "#         return False\n",
    "#     # Calculate the feet coordinates for the last 10 coordinates\n",
    "#     feet_coordinates = []\n",
    "#     for coordinate in last_coordinates:\n",
    "#         feet_coordinates.append(((coordinate[0] + coordinate[2]) / 2, coordinate[3] - 5))\n",
    "\n",
    "#     # print(track_id, \" \", feet_coordinates) #this is working properly\n",
    "\n",
    "#     if cv2.pointPolygonTest(exitAreaVertices, feet_coordinates[-1], False) > 0:\n",
    "#         # print(\"Person is in exit area\")\n",
    "#         # Check if the person was outside of the exit door in the previous frame\n",
    "#         if cv2.pointPolygonTest(exitDoorVertices, feet_coordinates[-2], False) > 0:\n",
    "#             # print(\"Person is outside exit door\")\n",
    "#             return True\n",
    "#     return False\n",
    "\n",
    "# def isPersonExiting(exitDoorVertices, exitAreaVertices, track_id):\n",
    "#     # Get the last 10 coordinates of the person based on track\n",
    "#     last_coordinates = people_movement.get(track_id, [])[-10:]\n",
    "    \n",
    "#     # Check if there are at least 2 coordinates to compare\n",
    "#     if len(last_coordinates) < 2:\n",
    "#         return False\n",
    "\n",
    "#     # Calculate the feet coordinates for the last 10 coordinates\n",
    "#     feet_coordinates = []\n",
    "#     for coordinate in last_coordinates:\n",
    "#         feet_coordinates.append(((coordinate[0] + coordinate[2]) / 2, coordinate[3] - 5))\n",
    "\n",
    "#     if cv2.pointPolygonTest(exitDoorVertices, feet_coordinates[-1], False) < 0:\n",
    "#         # Check if the person was inside the exit area in the previous frame\n",
    "#         if cv2.pointPolygonTest(exitAreaVertices, feet_coordinates[-2], False) > 0:\n",
    "#             return False\n",
    "#     return True"
   ]
  },
  {
   "cell_type": "code",
   "execution_count": 3,
   "id": "e873e9a0",
   "metadata": {},
   "outputs": [
    {
     "name": "stderr",
     "output_type": "stream",
     "text": [
      "Ultralytics YOLOv8.0.33  Python-3.7.16 torch-1.13.1+cpu CPU\n",
      "YOLOv8n summary (fused): 168 layers, 3151904 parameters, 0 gradients, 8.7 GFLOPs\n",
      "\n",
      "0: 384x640 1 person, 1 tv, 71.0ms\n"
     ]
    },
    {
     "name": "stdout",
     "output_type": "stream",
     "text": [
      "Frame Count -  1\n"
     ]
    },
    {
     "name": "stderr",
     "output_type": "stream",
     "text": [
      "Speed: 1.0ms pre-process, 71.0ms inference, 1.0ms postprocess per image at shape (1, 3, 640, 640)\n",
      "\n",
      "0: 384x640 1 person, 1 tv, 65.8ms\n",
      "Speed: 1.0ms pre-process, 65.8ms inference, 1.0ms postprocess per image at shape (1, 3, 640, 640)\n",
      "\n",
      "0: 384x640 1 person, 1 tv, 69.0ms\n"
     ]
    },
    {
     "name": "stdout",
     "output_type": "stream",
     "text": [
      "Frame Count -  2\n",
      "Frame Count -  3\n"
     ]
    },
    {
     "name": "stderr",
     "output_type": "stream",
     "text": [
      "Speed: 1.0ms pre-process, 69.0ms inference, 0.0ms postprocess per image at shape (1, 3, 640, 640)\n",
      "\n",
      "0: 384x640 1 person, 1 tv, 66.5ms\n",
      "Speed: 1.0ms pre-process, 66.5ms inference, 1.0ms postprocess per image at shape (1, 3, 640, 640)\n",
      "\n",
      "0: 384x640 1 person, 1 tv, 67.2ms\n"
     ]
    },
    {
     "name": "stdout",
     "output_type": "stream",
     "text": [
      "Frame Count -  4\n",
      "Frame Count -  5\n"
     ]
    },
    {
     "name": "stderr",
     "output_type": "stream",
     "text": [
      "Speed: 1.0ms pre-process, 67.2ms inference, 1.0ms postprocess per image at shape (1, 3, 640, 640)\n",
      "\n",
      "0: 384x640 1 person, 1 tv, 109.6ms\n",
      "Speed: 1.0ms pre-process, 109.6ms inference, 1.0ms postprocess per image at shape (1, 3, 640, 640)\n"
     ]
    },
    {
     "name": "stdout",
     "output_type": "stream",
     "text": [
      "1   [(857.7261452819433, 713.0), (858.9197849571794, 713.0)]\n",
      "1  current coordinate (858.9197849571794, 713.0)\n",
      "1  previous coordinate (857.7261452819433, 713.0)\n",
      "Frame Count -  6\n",
      "1   [(857.7261452819433, 713.0), (858.9197849571794, 713.0), (860.700743653646, 713.7146795422395)]\n",
      "1  current coordinate (860.700743653646, 713.7146795422395)\n",
      "1  previous coordinate (858.9197849571794, 713.0)\n"
     ]
    },
    {
     "name": "stderr",
     "output_type": "stream",
     "text": [
      "\n",
      "0: 384x640 1 person, 1 tv, 65.0ms\n",
      "Speed: 1.0ms pre-process, 65.0ms inference, 0.0ms postprocess per image at shape (1, 3, 640, 640)\n",
      "\n"
     ]
    },
    {
     "name": "stdout",
     "output_type": "stream",
     "text": [
      "Frame Count -  7\n",
      "1   [(857.7261452819433, 713.0), (858.9197849571794, 713.0), (860.700743653646, 713.7146795422395), (861.6213929624726, 713.9631309014076)]\n",
      "1  current coordinate (861.6213929624726, 713.9631309014076)\n",
      "1  previous coordinate (860.700743653646, 713.7146795422395)\n",
      "Frame Count -  8\n"
     ]
    },
    {
     "name": "stderr",
     "output_type": "stream",
     "text": [
      "0: 384x640 1 person, 1 tv, 108.1ms\n",
      "Speed: 1.0ms pre-process, 108.1ms inference, 0.0ms postprocess per image at shape (1, 3, 640, 640)\n",
      "\n",
      "0: 384x640 1 person, 1 tv, 86.0ms\n",
      "Speed: 1.0ms pre-process, 86.0ms inference, 1.0ms postprocess per image at shape (1, 3, 640, 640)\n"
     ]
    },
    {
     "name": "stdout",
     "output_type": "stream",
     "text": [
      "1   [(857.7261452819433, 713.0), (858.9197849571794, 713.0), (860.700743653646, 713.7146795422395), (861.6213929624726, 713.9631309014076), (863.6155835553303, 714.0445496417731)]\n",
      "1  current coordinate (863.6155835553303, 714.0445496417731)\n",
      "1  previous coordinate (861.6213929624726, 713.9631309014076)\n",
      "Frame Count -  9\n",
      "1   [(857.7261452819433, 713.0), (858.9197849571794, 713.0), (860.700743653646, 713.7146795422395), (861.6213929624726, 713.9631309014076), (863.6155835553303, 714.0445496417731), (864.6305102393612, 714.066336193662)]\n",
      "1  current coordinate (864.6305102393612, 714.066336193662)\n",
      "1  previous coordinate (863.6155835553303, 714.0445496417731)\n"
     ]
    },
    {
     "name": "stderr",
     "output_type": "stream",
     "text": [
      "\n",
      "0: 384x640 1 person, 1 tv, 63.0ms\n",
      "Speed: 1.0ms pre-process, 63.0ms inference, 0.0ms postprocess per image at shape (1, 3, 640, 640)\n",
      "\n",
      "0: 384x640 1 person, 1 tv, 66.6ms\n"
     ]
    },
    {
     "name": "stdout",
     "output_type": "stream",
     "text": [
      "Frame Count -  10\n",
      "1   [(857.7261452819433, 713.0), (858.9197849571794, 713.0), (860.700743653646, 713.7146795422395), (861.6213929624726, 713.9631309014076), (863.6155835553303, 714.0445496417731), (864.6305102393612, 714.066336193662), (866.2985205392608, 713.3922825318837)]\n",
      "1  current coordinate (866.2985205392608, 713.3922825318837)\n",
      "1  previous coordinate (864.6305102393612, 714.066336193662)\n",
      "Frame Count -  11\n"
     ]
    },
    {
     "name": "stderr",
     "output_type": "stream",
     "text": [
      "Speed: 1.0ms pre-process, 66.6ms inference, 1.0ms postprocess per image at shape (1, 3, 640, 640)\n",
      "\n",
      "0: 384x640 1 person, 1 tv, 64.1ms\n",
      "Speed: 1.0ms pre-process, 64.1ms inference, 1.0ms postprocess per image at shape (1, 3, 640, 640)\n",
      "\n"
     ]
    },
    {
     "name": "stdout",
     "output_type": "stream",
     "text": [
      "1   [(857.7261452819433, 713.0), (858.9197849571794, 713.0), (860.700743653646, 713.7146795422395), (861.6213929624726, 713.9631309014076), (863.6155835553303, 714.0445496417731), (864.6305102393612, 714.066336193662), (866.2985205392608, 713.3922825318837), (867.871383697211, 713.1366338496678)]\n",
      "1  current coordinate (867.871383697211, 713.1366338496678)\n",
      "1  previous coordinate (866.2985205392608, 713.3922825318837)\n",
      "Frame Count -  12\n",
      "1   [(857.7261452819433, 713.0), (858.9197849571794, 713.0), (860.700743653646, 713.7146795422395), (861.6213929624726, 713.9631309014076), (863.6155835553303, 714.0445496417731), (864.6305102393612, 714.066336193662), (866.2985205392608, 713.3922825318837), (867.871383697211, 713.1366338496678), (868.4022489372603, 713.0407163004352)]\n",
      "1  current coordinate (868.4022489372603, 713.0407163004352)\n",
      "1  previous coordinate (867.871383697211, 713.1366338496678)\n",
      "Frame Count -  13\n"
     ]
    },
    {
     "name": "stderr",
     "output_type": "stream",
     "text": [
      "0: 384x640 1 person, 1 tv, 65.2ms\n",
      "Speed: 1.0ms pre-process, 65.2ms inference, 1.0ms postprocess per image at shape (1, 3, 640, 640)\n",
      "\n",
      "0: 384x640 1 person, 1 tv, 59.7ms\n",
      "Speed: 1.0ms pre-process, 59.7ms inference, 1.0ms postprocess per image at shape (1, 3, 640, 640)\n",
      "\n"
     ]
    },
    {
     "name": "stdout",
     "output_type": "stream",
     "text": [
      "1   [(857.7261452819433, 713.0), (858.9197849571794, 713.0), (860.700743653646, 713.7146795422395), (861.6213929624726, 713.9631309014076), (863.6155835553303, 714.0445496417731), (864.6305102393612, 714.066336193662), (866.2985205392608, 713.3922825318837), (867.871383697211, 713.1366338496678), (868.4022489372603, 713.0407163004352), (869.213605983681, 712.3382664793007)]\n",
      "1  current coordinate (869.213605983681, 712.3382664793007)\n",
      "1  previous coordinate (868.4022489372603, 713.0407163004352)\n",
      "Frame Count -  14\n",
      "1   [(858.9197849571794, 713.0), (860.700743653646, 713.7146795422395), (861.6213929624726, 713.9631309014076), (863.6155835553303, 714.0445496417731), (864.6305102393612, 714.066336193662), (866.2985205392608, 713.3922825318837), (867.871383697211, 713.1366338496678), (868.4022489372603, 713.0407163004352), (869.213605983681, 712.3382664793007), (869.1350743597164, 712.0766810557948)]\n",
      "1  current coordinate (869.1350743597164, 712.0766810557948)\n",
      "1  previous coordinate (869.213605983681, 712.3382664793007)\n",
      "Frame Count -  15\n"
     ]
    },
    {
     "name": "stderr",
     "output_type": "stream",
     "text": [
      "0: 384x640 2 persons, 1 tv, 117.9ms\n",
      "Speed: 1.0ms pre-process, 117.9ms inference, 1.0ms postprocess per image at shape (1, 3, 640, 640)\n",
      "\n",
      "0: 384x640 1 person, 1 tv, 109.2ms\n",
      "Speed: 0.0ms pre-process, 109.2ms inference, 1.0ms postprocess per image at shape (1, 3, 640, 640)\n"
     ]
    },
    {
     "name": "stdout",
     "output_type": "stream",
     "text": [
      "1   [(860.700743653646, 713.7146795422395), (861.6213929624726, 713.9631309014076), (863.6155835553303, 714.0445496417731), (864.6305102393612, 714.066336193662), (866.2985205392608, 713.3922825318837), (867.871383697211, 713.1366338496678), (868.4022489372603, 713.0407163004352), (869.213605983681, 712.3382664793007), (869.1350743597164, 712.0766810557948), (868.0625197413349, 711.3184115681028)]\n",
      "1  current coordinate (868.0625197413349, 711.3184115681028)\n",
      "1  previous coordinate (869.1350743597164, 712.0766810557948)\n",
      "Frame Count -  16\n",
      "1   [(861.6213929624726, 713.9631309014076), (863.6155835553303, 714.0445496417731), (864.6305102393612, 714.066336193662), (866.2985205392608, 713.3922825318837), (867.871383697211, 713.1366338496678), (868.4022489372603, 713.0407163004352), (869.213605983681, 712.3382664793007), (869.1350743597164, 712.0766810557948), (868.0625197413349, 711.3184115681028), (867.951566986729, 711.0389384722539)]\n",
      "1  current coordinate (867.951566986729, 711.0389384722539)\n",
      "1  previous coordinate (868.0625197413349, 711.3184115681028)\n"
     ]
    },
    {
     "name": "stderr",
     "output_type": "stream",
     "text": [
      "\n",
      "0: 384x640 1 person, 1 tv, 55.1ms\n",
      "Speed: 1.0ms pre-process, 55.1ms inference, 1.0ms postprocess per image at shape (1, 3, 640, 640)\n",
      "\n"
     ]
    },
    {
     "name": "stdout",
     "output_type": "stream",
     "text": [
      "Frame Count -  17\n",
      "1   [(863.6155835553303, 714.0445496417731), (864.6305102393612, 714.066336193662), (866.2985205392608, 713.3922825318837), (867.871383697211, 713.1366338496678), (868.4022489372603, 713.0407163004352), (869.213605983681, 712.3382664793007), (869.1350743597164, 712.0766810557948), (868.0625197413349, 711.3184115681028), (867.951566986729, 711.0389384722539), (868.5434467934194, 711.6053201053287)]\n",
      "1  current coordinate (868.5434467934194, 711.6053201053287)\n",
      "1  previous coordinate (867.951566986729, 711.0389384722539)\n",
      "Frame Count -  18\n"
     ]
    },
    {
     "name": "stderr",
     "output_type": "stream",
     "text": [
      "0: 384x640 1 person, 1 tv, 92.6ms\n",
      "Speed: 1.0ms pre-process, 92.6ms inference, 0.0ms postprocess per image at shape (1, 3, 640, 640)\n"
     ]
    },
    {
     "name": "stdout",
     "output_type": "stream",
     "text": [
      "1   [(864.6305102393612, 714.066336193662), (866.2985205392608, 713.3922825318837), (867.871383697211, 713.1366338496678), (868.4022489372603, 713.0407163004352), (869.213605983681, 712.3382664793007), (869.1350743597164, 712.0766810557948), (868.0625197413349, 711.3184115681028), (867.951566986729, 711.0389384722539), (868.5434467934194, 711.6053201053287), (870.0647328458226, 712.488018052162)]\n",
      "1  current coordinate (870.0647328458226, 712.488018052162)\n",
      "1  previous coordinate (868.5434467934194, 711.6053201053287)\n"
     ]
    },
    {
     "name": "stderr",
     "output_type": "stream",
     "text": [
      "\n",
      "0: 384x640 2 persons, 1 tv, 90.0ms\n",
      "Speed: 1.5ms pre-process, 90.0ms inference, 1.0ms postprocess per image at shape (1, 3, 640, 640)\n",
      "\n"
     ]
    },
    {
     "name": "stdout",
     "output_type": "stream",
     "text": [
      "Frame Count -  19\n",
      "1   [(866.2985205392608, 713.3922825318837), (867.871383697211, 713.1366338496678), (868.4022489372603, 713.0407163004352), (869.213605983681, 712.3382664793007), (869.1350743597164, 712.0766810557948), (868.0625197413349, 711.3184115681028), (867.951566986729, 711.0389384722539), (868.5434467934194, 711.6053201053287), (870.0647328458226, 712.488018052162), (872.5961675232456, 712.8244533361401)]\n",
      "1  current coordinate (872.5961675232456, 712.8244533361401)\n",
      "1  previous coordinate (870.0647328458226, 712.488018052162)\n",
      "Frame Count -  20\n"
     ]
    },
    {
     "name": "stderr",
     "output_type": "stream",
     "text": [
      "0: 384x640 2 persons, 1 tv, 63.1ms\n",
      "Speed: 1.0ms pre-process, 63.1ms inference, 0.0ms postprocess per image at shape (1, 3, 640, 640)\n",
      "\n",
      "0: 384x640 2 persons, 1 tv, 60.0ms\n",
      "Speed: 1.0ms pre-process, 60.0ms inference, 0.0ms postprocess per image at shape (1, 3, 640, 640)\n",
      "\n"
     ]
    },
    {
     "name": "stdout",
     "output_type": "stream",
     "text": [
      "1   [(867.871383697211, 713.1366338496678), (868.4022489372603, 713.0407163004352), (869.213605983681, 712.3382664793007), (869.1350743597164, 712.0766810557948), (868.0625197413349, 711.3184115681028), (867.951566986729, 711.0389384722539), (868.5434467934194, 711.6053201053287), (870.0647328458226, 712.488018052162), (872.5961675232456, 712.8244533361401), (874.843416290843, 712.9514544081242)]\n",
      "1  current coordinate (874.843416290843, 712.9514544081242)\n",
      "1  previous coordinate (872.5961675232456, 712.8244533361401)\n",
      "Frame Count -  21\n",
      "1   [(868.4022489372603, 713.0407163004352), (869.213605983681, 712.3382664793007), (869.1350743597164, 712.0766810557948), (868.0625197413349, 711.3184115681028), (867.951566986729, 711.0389384722539), (868.5434467934194, 711.6053201053287), (870.0647328458226, 712.488018052162), (872.5961675232456, 712.8244533361401), (874.843416290843, 712.9514544081242), (877.3053493547236, 712.9980630788782)]\n",
      "1  current coordinate (877.3053493547236, 712.9980630788782)\n",
      "1  previous coordinate (874.843416290843, 712.9514544081242)\n",
      "Frame Count -  22\n"
     ]
    },
    {
     "name": "stderr",
     "output_type": "stream",
     "text": [
      "0: 384x640 2 persons, 1 tv, 64.5ms\n",
      "Speed: 1.0ms pre-process, 64.5ms inference, 1.0ms postprocess per image at shape (1, 3, 640, 640)\n",
      "\n",
      "0: 384x640 2 persons, 1 tv, 61.1ms\n",
      "Speed: 1.9ms pre-process, 61.1ms inference, 1.0ms postprocess per image at shape (1, 3, 640, 640)\n"
     ]
    },
    {
     "name": "stdout",
     "output_type": "stream",
     "text": [
      "1   [(869.213605983681, 712.3382664793007), (869.1350743597164, 712.0766810557948), (868.0625197413349, 711.3184115681028), (867.951566986729, 711.0389384722539), (868.5434467934194, 711.6053201053287), (870.0647328458226, 712.488018052162), (872.5961675232456, 712.8244533361401), (874.843416290843, 712.9514544081242), (877.3053493547236, 712.9980630788782), (879.5132149817962, 713.0140169371145)]\n",
      "1  current coordinate (879.5132149817962, 713.0140169371145)\n",
      "1  previous coordinate (877.3053493547236, 712.9980630788782)\n",
      "Frame Count -  23\n",
      "1   [(869.1350743597164, 712.0766810557948), (868.0625197413349, 711.3184115681028), (867.951566986729, 711.0389384722539), (868.5434467934194, 711.6053201053287), (870.0647328458226, 712.488018052162), (872.5961675232456, 712.8244533361401), (874.843416290843, 712.9514544081242), (877.3053493547236, 712.9980630788782), (879.5132149817962, 713.0140169371145), (882.6118259620002, 712.3571280571923)]\n",
      "1  current coordinate (882.6118259620002, 712.3571280571923)\n",
      "1  previous coordinate (879.5132149817962, 713.0140169371145)\n",
      "2   [(763.8143950322649, 209.78743628401617), (763.2997345525139, 210.82737162471676)]\n",
      "2  current coordinate (763.2997345525139, 210.82737162471676)\n",
      "2  previous coordinate (763.8143950322649, 209.78743628401617)\n"
     ]
    },
    {
     "name": "stderr",
     "output_type": "stream",
     "text": [
      "\n",
      "0: 384x640 2 persons, 1 tv, 68.5ms\n",
      "Speed: 1.0ms pre-process, 68.5ms inference, 0.0ms postprocess per image at shape (1, 3, 640, 640)\n",
      "\n",
      "0: 384x640 2 persons, 1 tv, 63.4ms\n"
     ]
    },
    {
     "name": "stdout",
     "output_type": "stream",
     "text": [
      "Frame Count -  24\n",
      "1   [(868.0625197413349, 711.3184115681028), (867.951566986729, 711.0389384722539), (868.5434467934194, 711.6053201053287), (870.0647328458226, 712.488018052162), (872.5961675232456, 712.8244533361401), (874.843416290843, 712.9514544081242), (877.3053493547236, 712.9980630788782), (879.5132149817962, 713.0140169371145), (882.6118259620002, 712.3571280571923), (885.0495730311179, 712.1083094589583)]\n",
      "1  current coordinate (885.0495730311179, 712.1083094589583)\n",
      "1  previous coordinate (882.6118259620002, 712.3571280571923)\n",
      "2   [(763.8143950322649, 209.78743628401617), (763.2997345525139, 210.82737162471676), (762.1109301237184, 211.1504976026202)]\n",
      "2  current coordinate (762.1109301237184, 211.1504976026202)\n",
      "2  previous coordinate (763.2997345525139, 210.82737162471676)\n",
      "Frame Count -  25\n"
     ]
    },
    {
     "name": "stderr",
     "output_type": "stream",
     "text": [
      "Speed: 1.0ms pre-process, 63.4ms inference, 0.0ms postprocess per image at shape (1, 3, 640, 640)\n",
      "\n",
      "0: 384x640 2 persons, 1 tv, 63.0ms\n",
      "Speed: 1.0ms pre-process, 63.0ms inference, 1.0ms postprocess per image at shape (1, 3, 640, 640)\n",
      "\n"
     ]
    },
    {
     "name": "stdout",
     "output_type": "stream",
     "text": [
      "1   [(867.951566986729, 711.0389384722539), (868.5434467934194, 711.6053201053287), (870.0647328458226, 712.488018052162), (872.5961675232456, 712.8244533361401), (874.843416290843, 712.9514544081242), (877.3053493547236, 712.9980630788782), (879.5132149817962, 713.0140169371145), (882.6118259620002, 712.3571280571923), (885.0495730311179, 712.1083094589583), (886.8999227411609, 712.016165531822)]\n",
      "1  current coordinate (886.8999227411609, 712.016165531822)\n",
      "1  previous coordinate (885.0495730311179, 712.1083094589583)\n",
      "2   [(763.8143950322649, 209.78743628401617), (763.2997345525139, 210.82737162471676), (762.1109301237184, 211.1504976026202), (760.3415173329099, 210.53034483713756)]\n",
      "2  current coordinate (760.3415173329099, 210.53034483713756)\n",
      "2  previous coordinate (762.1109301237184, 211.1504976026202)\n",
      "Frame Count -  26\n",
      "1   [(868.5434467934194, 711.6053201053287), (870.0647328458226, 712.488018052162), (872.5961675232456, 712.8244533361401), (874.843416290843, 712.9514544081242), (877.3053493547236, 712.9980630788782), (879.5132149817962, 713.0140169371145), (882.6118259620002, 712.3571280571923), (885.0495730311179, 712.1083094589583), (886.8999227411609, 712.016165531822), (889.1871601080459, 711.3225246146757)]\n",
      "1  current coordinate (889.1871601080459, 711.3225246146757)\n",
      "1  previous coordinate (886.8999227411609, 712.016165531822)\n",
      "2   [(763.8143950322649, 209.78743628401617), (763.2997345525139, 210.82737162471676), (762.1109301237184, 211.1504976026202), (760.3415173329099, 210.53034483713756), (758.7207725465523, 210.97002141855995)]\n",
      "2  current coordinate (758.7207725465523, 210.97002141855995)\n",
      "2  previous coordinate (760.3415173329099, 210.53034483713756)\n",
      "Frame Count -  27\n"
     ]
    },
    {
     "name": "stderr",
     "output_type": "stream",
     "text": [
      "0: 384x640 2 persons, 1 tv, 64.2ms\n",
      "Speed: 1.0ms pre-process, 64.2ms inference, 0.0ms postprocess per image at shape (1, 3, 640, 640)\n",
      "\n",
      "0: 384x640 2 persons, 1 tv, 121.8ms\n"
     ]
    },
    {
     "name": "stdout",
     "output_type": "stream",
     "text": [
      "1   [(870.0647328458226, 712.488018052162), (872.5961675232456, 712.8244533361401), (874.843416290843, 712.9514544081242), (877.3053493547236, 712.9980630788782), (879.5132149817962, 713.0140169371145), (882.6118259620002, 712.3571280571923), (885.0495730311179, 712.1083094589583), (886.8999227411609, 712.016165531822), (889.1871601080459, 711.3225246146757), (890.3152016435474, 711.7254333386641)]\n",
      "1  current coordinate (890.3152016435474, 711.7254333386641)\n",
      "1  previous coordinate (889.1871601080459, 711.3225246146757)\n",
      "2   [(763.8143950322649, 209.78743628401617), (763.2997345525139, 210.82737162471676), (762.1109301237184, 211.1504976026202), (760.3415173329099, 210.53034483713756), (758.7207725465523, 210.97002141855995), (759.8806779934778, 211.1135817943063)]\n",
      "2  current coordinate (759.8806779934778, 211.1135817943063)\n",
      "2  previous coordinate (758.7207725465523, 210.97002141855995)\n",
      "Frame Count -  28\n"
     ]
    },
    {
     "name": "stderr",
     "output_type": "stream",
     "text": [
      "Speed: 1.0ms pre-process, 121.8ms inference, 1.0ms postprocess per image at shape (1, 3, 640, 640)\n",
      "\n",
      "0: 384x640 2 persons, 1 tv, 62.0ms\n",
      "Speed: 1.0ms pre-process, 62.0ms inference, 1.0ms postprocess per image at shape (1, 3, 640, 640)\n",
      "\n"
     ]
    },
    {
     "name": "stdout",
     "output_type": "stream",
     "text": [
      "1   [(872.5961675232456, 712.8244533361401), (874.843416290843, 712.9514544081242), (877.3053493547236, 712.9980630788782), (879.5132149817962, 713.0140169371145), (882.6118259620002, 712.3571280571923), (885.0495730311179, 712.1083094589583), (886.8999227411609, 712.016165531822), (889.1871601080459, 711.3225246146757), (890.3152016435474, 711.7254333386641), (891.3364900373101, 711.881548956082)]\n",
      "1  current coordinate (891.3364900373101, 711.881548956082)\n",
      "1  previous coordinate (890.3152016435474, 711.7254333386641)\n",
      "2   [(763.8143950322649, 209.78743628401617), (763.2997345525139, 210.82737162471676), (762.1109301237184, 211.1504976026202), (760.3415173329099, 210.53034483713756), (758.7207725465523, 210.97002141855995), (759.8806779934778, 211.1135817943063), (759.349202023102, 213.17693000395022)]\n",
      "2  current coordinate (759.349202023102, 213.17693000395022)\n",
      "2  previous coordinate (759.8806779934778, 211.1135817943063)\n",
      "Frame Count -  29\n",
      "1   [(874.843416290843, 712.9514544081242), (877.3053493547236, 712.9980630788782), (879.5132149817962, 713.0140169371145), (882.6118259620002, 712.3571280571923), (885.0495730311179, 712.1083094589583), (886.8999227411609, 712.016165531822), (889.1871601080459, 711.3225246146757), (890.3152016435474, 711.7254333386641), (891.3364900373101, 711.881548956082), (891.3282152551785, 711.943220772235)]\n",
      "1  current coordinate (891.3282152551785, 711.943220772235)\n",
      "1  previous coordinate (891.3364900373101, 711.881548956082)\n",
      "2   [(763.8143950322649, 209.78743628401617), (763.2997345525139, 210.82737162471676), (762.1109301237184, 211.1504976026202), (760.3415173329099, 210.53034483713756), (758.7207725465523, 210.97002141855995), (759.8806779934778, 211.1135817943063), (759.349202023102, 213.17693000395022), (758.5161823282458, 213.92359536252224)]\n",
      "2  current coordinate (758.5161823282458, 213.92359536252224)\n",
      "2  previous coordinate (759.349202023102, 213.17693000395022)\n",
      "Frame Count -  30\n"
     ]
    },
    {
     "name": "stderr",
     "output_type": "stream",
     "text": [
      "0: 384x640 2 persons, 1 tv, 80.5ms\n",
      "Speed: 1.0ms pre-process, 80.5ms inference, 1.0ms postprocess per image at shape (1, 3, 640, 640)\n",
      "\n",
      "0: 384x640 2 persons, 1 tv, 69.6ms\n",
      "Speed: 1.0ms pre-process, 69.6ms inference, 1.1ms postprocess per image at shape (1, 3, 640, 640)\n"
     ]
    },
    {
     "name": "stdout",
     "output_type": "stream",
     "text": [
      "1   [(877.3053493547236, 712.9980630788782), (879.5132149817962, 713.0140169371145), (882.6118259620002, 712.3571280571923), (885.0495730311179, 712.1083094589583), (886.8999227411609, 712.016165531822), (889.1871601080459, 711.3225246146757), (890.3152016435474, 711.7254333386641), (891.3364900373101, 711.881548956082), (891.3282152551785, 711.943220772235), (891.2659276030831, 711.9682560330373)]\n",
      "1  current coordinate (891.2659276030831, 711.9682560330373)\n",
      "1  previous coordinate (891.3282152551785, 711.943220772235)\n",
      "2   [(763.8143950322649, 209.78743628401617), (763.2997345525139, 210.82737162471676), (762.1109301237184, 211.1504976026202), (760.3415173329099, 210.53034483713756), (758.7207725465523, 210.97002141855995), (759.8806779934778, 211.1135817943063), (759.349202023102, 213.17693000395022), (758.5161823282458, 213.92359536252224), (756.9057232228465, 215.5102324566331)]\n",
      "2  current coordinate (756.9057232228465, 215.5102324566331)\n",
      "2  previous coordinate (758.5161823282458, 213.92359536252224)\n",
      "Frame Count -  31\n",
      "1   [(879.5132149817962, 713.0140169371145), (882.6118259620002, 712.3571280571923), (885.0495730311179, 712.1083094589583), (886.8999227411609, 712.016165531822), (889.1871601080459, 711.3225246146757), (890.3152016435474, 711.7254333386641), (891.3364900373101, 711.881548956082), (891.3282152551785, 711.943220772235), (891.2659276030831, 711.9682560330373), (891.1898062934094, 711.9790484928078)]\n",
      "1  current coordinate (891.1898062934094, 711.9790484928078)\n",
      "1  previous coordinate (891.2659276030831, 711.9682560330373)\n",
      "2   [(763.8143950322649, 209.78743628401617), (763.2997345525139, 210.82737162471676), (762.1109301237184, 211.1504976026202), (760.3415173329099, 210.53034483713756), (758.7207725465523, 210.97002141855995), (759.8806779934778, 211.1135817943063), (759.349202023102, 213.17693000395022), (758.5161823282458, 213.92359536252224), (756.9057232228465, 215.5102324566331), (755.0052651431106, 217.4092354807142)]\n",
      "2  current coordinate (755.0052651431106, 217.4092354807142)\n",
      "2  previous coordinate (756.9057232228465, 215.5102324566331)\n"
     ]
    },
    {
     "name": "stderr",
     "output_type": "stream",
     "text": [
      "\n",
      "0: 384x640 2 persons, 1 tv, 65.5ms\n",
      "Speed: 1.0ms pre-process, 65.5ms inference, 1.0ms postprocess per image at shape (1, 3, 640, 640)\n",
      "\n",
      "0: 384x640 2 persons, 1 tv, 65.2ms\n"
     ]
    },
    {
     "name": "stdout",
     "output_type": "stream",
     "text": [
      "Frame Count -  32\n",
      "1   [(882.6118259620002, 712.3571280571923), (885.0495730311179, 712.1083094589583), (886.8999227411609, 712.016165531822), (889.1871601080459, 711.3225246146757), (890.3152016435474, 711.7254333386641), (891.3364900373101, 711.881548956082), (891.3282152551785, 711.943220772235), (891.2659276030831, 711.9682560330373), (891.1898062934094, 711.9790484928078), (891.1153116809156, 711.9842017407407)]\n",
      "1  current coordinate (891.1153116809156, 711.9842017407407)\n",
      "1  previous coordinate (891.1898062934094, 711.9790484928078)\n",
      "2   [(763.2997345525139, 210.82737162471676), (762.1109301237184, 211.1504976026202), (760.3415173329099, 210.53034483713756), (758.7207725465523, 210.97002141855995), (759.8806779934778, 211.1135817943063), (759.349202023102, 213.17693000395022), (758.5161823282458, 213.92359536252224), (756.9057232228465, 215.5102324566331), (755.0052651431106, 217.4092354807142), (753.6626176111216, 218.7576196610575)]\n",
      "2  current coordinate (753.6626176111216, 218.7576196610575)\n",
      "2  previous coordinate (755.0052651431106, 217.4092354807142)\n",
      "Frame Count -  33\n"
     ]
    },
    {
     "name": "stderr",
     "output_type": "stream",
     "text": [
      "Speed: 1.0ms pre-process, 65.2ms inference, 0.0ms postprocess per image at shape (1, 3, 640, 640)\n",
      "\n",
      "0: 384x640 2 persons, 1 tv, 69.7ms\n",
      "Speed: 1.0ms pre-process, 69.7ms inference, 1.0ms postprocess per image at shape (1, 3, 640, 640)\n",
      "\n"
     ]
    },
    {
     "name": "stdout",
     "output_type": "stream",
     "text": [
      "1   [(885.0495730311179, 712.1083094589583), (886.8999227411609, 712.016165531822), (889.1871601080459, 711.3225246146757), (890.3152016435474, 711.7254333386641), (891.3364900373101, 711.881548956082), (891.3282152551785, 711.943220772235), (891.2659276030831, 711.9682560330373), (891.1898062934094, 711.9790484928078), (891.1153116809156, 711.9842017407407), (890.7162836847892, 711.987090914464)]\n",
      "1  current coordinate (890.7162836847892, 711.987090914464)\n",
      "1  previous coordinate (891.1153116809156, 711.9842017407407)\n",
      "2   [(762.1109301237184, 211.1504976026202), (760.3415173329099, 210.53034483713756), (758.7207725465523, 210.97002141855995), (759.8806779934778, 211.1135817943063), (759.349202023102, 213.17693000395022), (758.5161823282458, 213.92359536252224), (756.9057232228465, 215.5102324566331), (755.0052651431106, 217.4092354807142), (753.6626176111216, 218.7576196610575), (750.2187053037546, 217.91073375732242)]\n",
      "2  current coordinate (750.2187053037546, 217.91073375732242)\n",
      "2  previous coordinate (753.6626176111216, 218.7576196610575)\n",
      "Frame Count -  34\n",
      "1   [(886.8999227411609, 712.016165531822), (889.1871601080459, 711.3225246146757), (890.3152016435474, 711.7254333386641), (891.3364900373101, 711.881548956082), (891.3282152551785, 711.943220772235), (891.2659276030831, 711.9682560330373), (891.1898062934094, 711.9790484928078), (891.1153116809156, 711.9842017407407), (890.7162836847892, 711.987090914464), (890.1995326568469, 711.9889985319426)]\n",
      "1  current coordinate (890.1995326568469, 711.9889985319426)\n",
      "1  previous coordinate (890.7162836847892, 711.987090914464)\n",
      "2   [(760.3415173329099, 210.53034483713756), (758.7207725465523, 210.97002141855995), (759.8806779934778, 211.1135817943063), (759.349202023102, 213.17693000395022), (758.5161823282458, 213.92359536252224), (756.9057232228465, 215.5102324566331), (755.0052651431106, 217.4092354807142), (753.6626176111216, 218.7576196610575), (750.2187053037546, 217.91073375732242), (747.304767257797, 217.55360323920627)]\n",
      "2  current coordinate (747.304767257797, 217.55360323920627)\n",
      "2  previous coordinate (750.2187053037546, 217.91073375732242)\n",
      "Frame Count -  35\n"
     ]
    },
    {
     "name": "stderr",
     "output_type": "stream",
     "text": [
      "0: 384x640 2 persons, 1 tv, 68.3ms\n",
      "Speed: 1.0ms pre-process, 68.3ms inference, 1.0ms postprocess per image at shape (1, 3, 640, 640)\n",
      "\n",
      "0: 384x640 2 persons, 1 tv, 66.6ms\n",
      "Speed: 1.0ms pre-process, 66.6ms inference, 0.0ms postprocess per image at shape (1, 3, 640, 640)\n"
     ]
    },
    {
     "name": "stdout",
     "output_type": "stream",
     "text": [
      "1   [(889.1871601080459, 711.3225246146757), (890.3152016435474, 711.7254333386641), (891.3364900373101, 711.881548956082), (891.3282152551785, 711.943220772235), (891.2659276030831, 711.9682560330373), (891.1898062934094, 711.9790484928078), (891.1153116809156, 711.9842017407407), (890.7162836847892, 711.987090914464), (890.1995326568469, 711.9889985319426), (889.3144879389185, 711.9904333007123)]\n",
      "1  current coordinate (889.3144879389185, 711.9904333007123)\n",
      "1  previous coordinate (890.1995326568469, 711.9889985319426)\n",
      "2   [(758.7207725465523, 210.97002141855995), (759.8806779934778, 211.1135817943063), (759.349202023102, 213.17693000395022), (758.5161823282458, 213.92359536252224), (756.9057232228465, 215.5102324566331), (755.0052651431106, 217.4092354807142), (753.6626176111216, 218.7576196610575), (750.2187053037546, 217.91073375732242), (747.304767257797, 217.55360323920627), (746.5992433829708, 218.0523822189141)]\n",
      "2  current coordinate (746.5992433829708, 218.0523822189141)\n",
      "2  previous coordinate (747.304767257797, 217.55360323920627)\n",
      "Frame Count -  36\n",
      "1   [(890.3152016435474, 711.7254333386641), (891.3364900373101, 711.881548956082), (891.3282152551785, 711.943220772235), (891.2659276030831, 711.9682560330373), (891.1898062934094, 711.9790484928078), (891.1153116809156, 711.9842017407407), (890.7162836847892, 711.987090914464), (890.1995326568469, 711.9889985319426), (889.3144879389185, 711.9904333007123), (888.2957143863846, 711.3327175835159)]\n",
      "1  current coordinate (888.2957143863846, 711.3327175835159)\n",
      "1  previous coordinate (889.3144879389185, 711.9904333007123)\n",
      "2   [(759.8806779934778, 211.1135817943063), (759.349202023102, 213.17693000395022), (758.5161823282458, 213.92359536252224), (756.9057232228465, 215.5102324566331), (755.0052651431106, 217.4092354807142), (753.6626176111216, 218.7576196610575), (750.2187053037546, 217.91073375732242), (747.304767257797, 217.55360323920627), (746.5992433829708, 218.0523822189141), (746.381832341933, 219.5402368048952)]\n",
      "2  current coordinate (746.381832341933, 219.5402368048952)\n",
      "2  previous coordinate (746.5992433829708, 218.0523822189141)\n"
     ]
    },
    {
     "name": "stderr",
     "output_type": "stream",
     "text": [
      "\n",
      "0: 384x640 2 persons, 1 tv, 68.5ms\n",
      "Speed: 0.8ms pre-process, 68.5ms inference, 1.0ms postprocess per image at shape (1, 3, 640, 640)\n",
      "\n"
     ]
    },
    {
     "name": "stdout",
     "output_type": "stream",
     "text": [
      "Frame Count -  37\n",
      "1   [(891.3364900373101, 711.881548956082), (891.3282152551785, 711.943220772235), (891.2659276030831, 711.9682560330373), (891.1898062934094, 711.9790484928078), (891.1153116809156, 711.9842017407407), (890.7162836847892, 711.987090914464), (890.1995326568469, 711.9889985319426), (889.3144879389185, 711.9904333007123), (888.2957143863846, 711.3327175835159), (887.5606013630415, 711.0844302244238)]\n",
      "1  current coordinate (887.5606013630415, 711.0844302244238)\n",
      "1  previous coordinate (888.2957143863846, 711.3327175835159)\n",
      "2   [(759.349202023102, 213.17693000395022), (758.5161823282458, 213.92359536252224), (756.9057232228465, 215.5102324566331), (755.0052651431106, 217.4092354807142), (753.6626176111216, 218.7576196610575), (750.2187053037546, 217.91073375732242), (747.304767257797, 217.55360323920627), (746.5992433829708, 218.0523822189141), (746.381832341933, 219.5402368048952), (745.3630301496105, 220.73900651183908)]\n",
      "2  current coordinate (745.3630301496105, 220.73900651183908)\n",
      "2  previous coordinate (746.381832341933, 219.5402368048952)\n",
      "Frame Count -  38\n"
     ]
    },
    {
     "name": "stderr",
     "output_type": "stream",
     "text": [
      "0: 384x640 2 persons, 1 tv, 104.6ms\n",
      "Speed: 1.0ms pre-process, 104.6ms inference, 1.0ms postprocess per image at shape (1, 3, 640, 640)\n",
      "\n",
      "0: 384x640 2 persons, 1 tv, 62.0ms\n",
      "Speed: 0.9ms pre-process, 62.0ms inference, 1.0ms postprocess per image at shape (1, 3, 640, 640)\n",
      "\n"
     ]
    },
    {
     "name": "stdout",
     "output_type": "stream",
     "text": [
      "1   [(891.3282152551785, 711.943220772235), (891.2659276030831, 711.9682560330373), (891.1898062934094, 711.9790484928078), (891.1153116809156, 711.9842017407407), (890.7162836847892, 711.987090914464), (890.1995326568469, 711.9889985319426), (889.3144879389185, 711.9904333007123), (888.2957143863846, 711.3327175835159), (887.5606013630415, 711.0844302244238), (885.9528216903317, 711.6529431051399)]\n",
      "1  current coordinate (885.9528216903317, 711.6529431051399)\n",
      "1  previous coordinate (887.5606013630415, 711.0844302244238)\n",
      "2   [(758.5161823282458, 213.92359536252224), (756.9057232228465, 215.5102324566331), (755.0052651431106, 217.4092354807142), (753.6626176111216, 218.7576196610575), (750.2187053037546, 217.91073375732242), (747.304767257797, 217.55360323920627), (746.5992433829708, 218.0523822189141), (746.381832341933, 219.5402368048952), (745.3630301496105, 220.73900651183908), (744.6966205403237, 227.75962997819465)]\n",
      "2  current coordinate (744.6966205403237, 227.75962997819465)\n",
      "2  previous coordinate (745.3630301496105, 220.73900651183908)\n",
      "Person 2 is entering the exit area\n",
      "Frame Count -  39\n",
      "1   [(891.2659276030831, 711.9682560330373), (891.1898062934094, 711.9790484928078), (891.1153116809156, 711.9842017407407), (890.7162836847892, 711.987090914464), (890.1995326568469, 711.9889985319426), (889.3144879389185, 711.9904333007123), (888.2957143863846, 711.3327175835159), (887.5606013630415, 711.0844302244238), (885.9528216903317, 711.6529431051399), (884.3493281950177, 711.8713842881073)]\n",
      "1  current coordinate (884.3493281950177, 711.8713842881073)\n",
      "1  previous coordinate (885.9528216903317, 711.6529431051399)\n",
      "2   [(756.9057232228465, 215.5102324566331), (755.0052651431106, 217.4092354807142), (753.6626176111216, 218.7576196610575), (750.2187053037546, 217.91073375732242), (747.304767257797, 217.55360323920627), (746.5992433829708, 218.0523822189141), (746.381832341933, 219.5402368048952), (745.3630301496105, 220.73900651183908), (744.6966205403237, 227.75962997819465), (743.1764961730914, 231.03003201331006)]\n",
      "2  current coordinate (743.1764961730914, 231.03003201331006)\n",
      "2  previous coordinate (744.6966205403237, 227.75962997819465)\n",
      "Person 2 is entering the exit area\n",
      "Frame Count -  40\n"
     ]
    },
    {
     "name": "stderr",
     "output_type": "stream",
     "text": [
      "0: 384x640 2 persons, 1 tv, 64.3ms\n",
      "Speed: 1.0ms pre-process, 64.3ms inference, 0.0ms postprocess per image at shape (1, 3, 640, 640)\n",
      "\n",
      "0: 384x640 2 persons, 1 tv, 70.8ms\n",
      "Speed: 1.0ms pre-process, 70.8ms inference, 1.0ms postprocess per image at shape (1, 3, 640, 640)\n",
      "\n"
     ]
    },
    {
     "name": "stdout",
     "output_type": "stream",
     "text": [
      "1   [(891.1898062934094, 711.9790484928078), (891.1153116809156, 711.9842017407407), (890.7162836847892, 711.987090914464), (890.1995326568469, 711.9889985319426), (889.3144879389185, 711.9904333007123), (888.2957143863846, 711.3327175835159), (887.5606013630415, 711.0844302244238), (885.9528216903317, 711.6529431051399), (884.3493281950177, 711.8713842881073), (883.0833814949972, 711.9550961443517)]\n",
      "1  current coordinate (883.0833814949972, 711.9550961443517)\n",
      "1  previous coordinate (884.3493281950177, 711.8713842881073)\n",
      "2   [(755.0052651431106, 217.4092354807142), (753.6626176111216, 218.7576196610575), (750.2187053037546, 217.91073375732242), (747.304767257797, 217.55360323920627), (746.5992433829708, 218.0523822189141), (746.381832341933, 219.5402368048952), (745.3630301496105, 220.73900651183908), (744.6966205403237, 227.75962997819465), (743.1764961730914, 231.03003201331006), (741.6571565114189, 232.8861681006299)]\n",
      "2  current coordinate (741.6571565114189, 232.8861681006299)\n",
      "2  previous coordinate (743.1764961730914, 231.03003201331006)\n",
      "Person 2 is entering the exit area\n",
      "Frame Count -  41\n",
      "1   [(891.1153116809156, 711.9842017407407), (890.7162836847892, 711.987090914464), (890.1995326568469, 711.9889985319426), (889.3144879389185, 711.9904333007123), (888.2957143863846, 711.3327175835159), (887.5606013630415, 711.0844302244238), (885.9528216903317, 711.6529431051399), (884.3493281950177, 711.8713842881073), (883.0833814949972, 711.9550961443517), (881.6225450134453, 711.9868916741236)]\n",
      "1  current coordinate (881.6225450134453, 711.9868916741236)\n",
      "1  previous coordinate (883.0833814949972, 711.9550961443517)\n",
      "2   [(753.6626176111216, 218.7576196610575), (750.2187053037546, 217.91073375732242), (747.304767257797, 217.55360323920627), (746.5992433829708, 218.0523822189141), (746.381832341933, 219.5402368048952), (745.3630301496105, 220.73900651183908), (744.6966205403237, 227.75962997819465), (743.1764961730914, 231.03003201331006), (741.6571565114189, 232.8861681006299), (739.4918341298367, 232.89452986553374)]\n",
      "2  current coordinate (739.4918341298367, 232.89452986553374)\n",
      "2  previous coordinate (741.6571565114189, 232.8861681006299)\n",
      "Person 2 is entering the exit area\n",
      "Frame Count -  42\n"
     ]
    },
    {
     "name": "stderr",
     "output_type": "stream",
     "text": [
      "0: 384x640 2 persons, 1 tv, 78.0ms\n",
      "Speed: 1.0ms pre-process, 78.0ms inference, 0.0ms postprocess per image at shape (1, 3, 640, 640)\n",
      "\n",
      "0: 384x640 2 persons, 1 tv, 62.4ms\n",
      "Speed: 1.0ms pre-process, 62.4ms inference, 1.0ms postprocess per image at shape (1, 3, 640, 640)\n",
      "\n"
     ]
    },
    {
     "name": "stdout",
     "output_type": "stream",
     "text": [
      "1   [(890.7162836847892, 711.987090914464), (890.1995326568469, 711.9889985319426), (889.3144879389185, 711.9904333007123), (888.2957143863846, 711.3327175835159), (887.5606013630415, 711.0844302244238), (885.9528216903317, 711.6529431051399), (884.3493281950177, 711.8713842881073), (883.0833814949972, 711.9550961443517), (881.6225450134453, 711.9868916741236), (880.0923491316898, 711.9986972205415)]\n",
      "1  current coordinate (880.0923491316898, 711.9986972205415)\n",
      "1  previous coordinate (881.6225450134453, 711.9868916741236)\n",
      "2   [(750.2187053037546, 217.91073375732242), (747.304767257797, 217.55360323920627), (746.5992433829708, 218.0523822189141), (746.381832341933, 219.5402368048952), (745.3630301496105, 220.73900651183908), (744.6966205403237, 227.75962997819465), (743.1764961730914, 231.03003201331006), (741.6571565114189, 232.8861681006299), (739.4918341298367, 232.89452986553374), (737.4003993103211, 232.83634642893173)]\n",
      "2  current coordinate (737.4003993103211, 232.83634642893173)\n",
      "2  previous coordinate (739.4918341298367, 232.89452986553374)\n",
      "Person 2 is entering the exit area\n",
      "Frame Count -  43\n",
      "1   [(890.1995326568469, 711.9889985319426), (889.3144879389185, 711.9904333007123), (888.2957143863846, 711.3327175835159), (887.5606013630415, 711.0844302244238), (885.9528216903317, 711.6529431051399), (884.3493281950177, 711.8713842881073), (883.0833814949972, 711.9550961443517), (881.6225450134453, 711.9868916741236), (880.0923491316898, 711.9986972205415), (878.2109584638044, 712.0028292429702)]\n",
      "1  current coordinate (878.2109584638044, 712.0028292429702)\n",
      "1  previous coordinate (880.0923491316898, 711.9986972205415)\n",
      "2   [(747.304767257797, 217.55360323920627), (746.5992433829708, 218.0523822189141), (746.381832341933, 219.5402368048952), (745.3630301496105, 220.73900651183908), (744.6966205403237, 227.75962997819465), (743.1764961730914, 231.03003201331006), (741.6571565114189, 232.8861681006299), (739.4918341298367, 232.89452986553374), (737.4003993103211, 232.83634642893173), (735.3408674084762, 234.06160513494646)]\n",
      "2  current coordinate (735.3408674084762, 234.06160513494646)\n",
      "2  previous coordinate (737.4003993103211, 232.83634642893173)\n",
      "Person 2 is entering the exit area\n",
      "Frame Count -  44\n"
     ]
    },
    {
     "name": "stderr",
     "output_type": "stream",
     "text": [
      "0: 384x640 2 persons, 1 tv, 97.4ms\n",
      "Speed: 1.0ms pre-process, 97.4ms inference, 1.0ms postprocess per image at shape (1, 3, 640, 640)\n",
      "\n",
      "0: 384x640 2 persons, 1 tv, 63.3ms\n",
      "Speed: 1.0ms pre-process, 63.3ms inference, 1.0ms postprocess per image at shape (1, 3, 640, 640)\n",
      "\n"
     ]
    },
    {
     "name": "stdout",
     "output_type": "stream",
     "text": [
      "1   [(889.3144879389185, 711.9904333007123), (888.2957143863846, 711.3327175835159), (887.5606013630415, 711.0844302244238), (885.9528216903317, 711.6529431051399), (884.3493281950177, 711.8713842881073), (883.0833814949972, 711.9550961443517), (881.6225450134453, 711.9868916741236), (880.0923491316898, 711.9986972205415), (878.2109584638044, 712.0028292429702), (876.8591309174146, 712.0040415948072)]\n",
      "1  current coordinate (876.8591309174146, 712.0040415948072)\n",
      "1  previous coordinate (878.2109584638044, 712.0028292429702)\n",
      "2   [(746.5992433829708, 218.0523822189141), (746.381832341933, 219.5402368048952), (745.3630301496105, 220.73900651183908), (744.6966205403237, 227.75962997819465), (743.1764961730914, 231.03003201331006), (741.6571565114189, 232.8861681006299), (739.4918341298367, 232.89452986553374), (737.4003993103211, 232.83634642893173), (735.3408674084762, 234.06160513494646), (733.623381069764, 236.4410711786365)]\n",
      "2  current coordinate (733.623381069764, 236.4410711786365)\n",
      "2  previous coordinate (735.3408674084762, 234.06160513494646)\n",
      "Person 2 is entering the exit area\n",
      "Frame Count -  45\n",
      "1   [(888.2957143863846, 711.3327175835159), (887.5606013630415, 711.0844302244238), (885.9528216903317, 711.6529431051399), (884.3493281950177, 711.8713842881073), (883.0833814949972, 711.9550961443517), (881.6225450134453, 711.9868916741236), (880.0923491316898, 711.9986972205415), (878.2109584638044, 712.0028292429702), (876.8591309174146, 712.0040415948072), (875.0552572325953, 712.0041697209704)]\n",
      "1  current coordinate (875.0552572325953, 712.0041697209704)\n",
      "1  previous coordinate (876.8591309174146, 712.0040415948072)\n",
      "2   [(746.381832341933, 219.5402368048952), (745.3630301496105, 220.73900651183908), (744.6966205403237, 227.75962997819465), (743.1764961730914, 231.03003201331006), (741.6571565114189, 232.8861681006299), (739.4918341298367, 232.89452986553374), (737.4003993103211, 232.83634642893173), (735.3408674084762, 234.06160513494646), (733.623381069764, 236.4410711786365), (731.0594702779365, 239.91733361110332)]\n",
      "2  current coordinate (731.0594702779365, 239.91733361110332)\n",
      "2  previous coordinate (733.623381069764, 236.4410711786365)\n",
      "Person 2 is entering the exit area\n",
      "Frame Count -  46\n"
     ]
    },
    {
     "name": "stderr",
     "output_type": "stream",
     "text": [
      "0: 384x640 2 persons, 1 tv, 73.9ms\n",
      "Speed: 2.0ms pre-process, 73.9ms inference, 1.0ms postprocess per image at shape (1, 3, 640, 640)\n",
      "\n",
      "0: 384x640 2 persons, 1 tv, 115.5ms\n"
     ]
    },
    {
     "name": "stdout",
     "output_type": "stream",
     "text": [
      "1   [(887.5606013630415, 711.0844302244238), (885.9528216903317, 711.6529431051399), (884.3493281950177, 711.8713842881073), (883.0833814949972, 711.9550961443517), (881.6225450134453, 711.9868916741236), (880.0923491316898, 711.9986972205415), (878.2109584638044, 712.0028292429702), (876.8591309174146, 712.0040415948072), (875.0552572325953, 712.0041697209704), (874.0704283078471, 712.003923078064)]\n",
      "1  current coordinate (874.0704283078471, 712.003923078064)\n",
      "1  previous coordinate (875.0552572325953, 712.0041697209704)\n",
      "2   [(745.3630301496105, 220.73900651183908), (744.6966205403237, 227.75962997819465), (743.1764961730914, 231.03003201331006), (741.6571565114189, 232.8861681006299), (739.4918341298367, 232.89452986553374), (737.4003993103211, 232.83634642893173), (735.3408674084762, 234.06160513494646), (733.623381069764, 236.4410711786365), (731.0594702779365, 239.91733361110332), (729.8065029624852, 240.54211014449527)]\n",
      "2  current coordinate (729.8065029624852, 240.54211014449527)\n",
      "2  previous coordinate (731.0594702779365, 239.91733361110332)\n",
      "Person 2 is entering the exit area\n",
      "Frame Count -  47\n"
     ]
    },
    {
     "name": "stderr",
     "output_type": "stream",
     "text": [
      "Speed: 0.9ms pre-process, 115.5ms inference, 1.0ms postprocess per image at shape (1, 3, 640, 640)\n",
      "\n",
      "0: 384x640 2 persons, 1 tv, 127.9ms\n",
      "Speed: 2.1ms pre-process, 127.9ms inference, 0.0ms postprocess per image at shape (1, 3, 640, 640)\n"
     ]
    },
    {
     "name": "stdout",
     "output_type": "stream",
     "text": [
      "1   [(885.9528216903317, 711.6529431051399), (884.3493281950177, 711.8713842881073), (883.0833814949972, 711.9550961443517), (881.6225450134453, 711.9868916741236), (880.0923491316898, 711.9986972205415), (878.2109584638044, 712.0028292429702), (876.8591309174146, 712.0040415948072), (875.0552572325953, 712.0041697209704), (874.0704283078471, 712.003923078064), (873.0707940582884, 712.0035691471514)]\n",
      "1  current coordinate (873.0707940582884, 712.0035691471514)\n",
      "1  previous coordinate (874.0704283078471, 712.003923078064)\n",
      "2   [(744.6966205403237, 227.75962997819465), (743.1764961730914, 231.03003201331006), (741.6571565114189, 232.8861681006299), (739.4918341298367, 232.89452986553374), (737.4003993103211, 232.83634642893173), (735.3408674084762, 234.06160513494646), (733.623381069764, 236.4410711786365), (731.0594702779365, 239.91733361110332), (729.8065029624852, 240.54211014449527), (727.0901236606162, 241.36918013291913)]\n",
      "2  current coordinate (727.0901236606162, 241.36918013291913)\n",
      "2  previous coordinate (729.8065029624852, 240.54211014449527)\n",
      "Person 2 is entering the exit area\n",
      "Frame Count -  48\n",
      "1   [(884.3493281950177, 711.8713842881073), (883.0833814949972, 711.9550961443517), (881.6225450134453, 711.9868916741236), (880.0923491316898, 711.9986972205415), (878.2109584638044, 712.0028292429702), (876.8591309174146, 712.0040415948072), (875.0552572325953, 712.0041697209704), (874.0704283078471, 712.003923078064), (873.0707940582884, 712.0035691471514), (872.0658773308802, 711.3456896929019)]\n",
      "1  current coordinate (872.0658773308802, 711.3456896929019)\n",
      "1  previous coordinate (873.0707940582884, 712.0035691471514)\n",
      "2   [(743.1764961730914, 231.03003201331006), (741.6571565114189, 232.8861681006299), (739.4918341298367, 232.89452986553374), (737.4003993103211, 232.83634642893173), (735.3408674084762, 234.06160513494646), (733.623381069764, 236.4410711786365), (731.0594702779365, 239.91733361110332), (729.8065029624852, 240.54211014449527), (727.0901236606162, 241.36918013291913), (725.4635230493279, 243.60409927684486)]\n",
      "2  current coordinate (725.4635230493279, 243.60409927684486)\n",
      "2  previous coordinate (727.0901236606162, 241.36918013291913)\n",
      "Person 2 is entering the exit area\n"
     ]
    },
    {
     "name": "stderr",
     "output_type": "stream",
     "text": [
      "\n",
      "0: 384x640 2 persons, 1 tv, 61.5ms\n",
      "Speed: 1.0ms pre-process, 61.5ms inference, 1.0ms postprocess per image at shape (1, 3, 640, 640)\n",
      "\n",
      "0: 384x640 2 persons, 1 tv, 59.0ms\n"
     ]
    },
    {
     "name": "stdout",
     "output_type": "stream",
     "text": [
      "Frame Count -  49\n",
      "1   [(883.0833814949972, 711.9550961443517), (881.6225450134453, 711.9868916741236), (880.0923491316898, 711.9986972205415), (878.2109584638044, 712.0028292429702), (876.8591309174146, 712.0040415948072), (875.0552572325953, 712.0041697209704), (874.0704283078471, 712.003923078064), (873.0707940582884, 712.0035691471514), (872.0658773308802, 711.3456896929019), (871.0595189650996, 711.0960177155705)]\n",
      "1  current coordinate (871.0595189650996, 711.0960177155705)\n",
      "1  previous coordinate (872.0658773308802, 711.3456896929019)\n",
      "2   [(741.6571565114189, 232.8861681006299), (739.4918341298367, 232.89452986553374), (737.4003993103211, 232.83634642893173), (735.3408674084762, 234.06160513494646), (733.623381069764, 236.4410711786365), (731.0594702779365, 239.91733361110332), (729.8065029624852, 240.54211014449527), (727.0901236606162, 241.36918013291913), (725.4635230493279, 243.60409927684486), (724.9089241655906, 245.7093447313904)]\n",
      "2  current coordinate (724.9089241655906, 245.7093447313904)\n",
      "2  previous coordinate (725.4635230493279, 243.60409927684486)\n",
      "Person 2 is entering the exit area\n",
      "Frame Count -  50\n"
     ]
    },
    {
     "name": "stderr",
     "output_type": "stream",
     "text": [
      "Speed: 1.0ms pre-process, 59.0ms inference, 1.0ms postprocess per image at shape (1, 3, 640, 640)\n",
      "\n",
      "0: 384x640 2 persons, 1 tv, 60.0ms\n",
      "Speed: 1.0ms pre-process, 60.0ms inference, 0.0ms postprocess per image at shape (1, 3, 640, 640)\n",
      "\n"
     ]
    },
    {
     "name": "stdout",
     "output_type": "stream",
     "text": [
      "1   [(881.6225450134453, 711.9868916741236), (880.0923491316898, 711.9986972205415), (878.2109584638044, 712.0028292429702), (876.8591309174146, 712.0040415948072), (875.0552572325953, 712.0041697209704), (874.0704283078471, 712.003923078064), (873.0707940582884, 712.0035691471514), (872.0658773308802, 711.3456896929019), (871.0595189650996, 711.0960177155705), (870.0531287239507, 711.0038236498433)]\n",
      "1  current coordinate (870.0531287239507, 711.0038236498433)\n",
      "1  previous coordinate (871.0595189650996, 711.0960177155705)\n",
      "2   [(739.4918341298367, 232.89452986553374), (737.4003993103211, 232.83634642893173), (735.3408674084762, 234.06160513494646), (733.623381069764, 236.4410711786365), (731.0594702779365, 239.91733361110332), (729.8065029624852, 240.54211014449527), (727.0901236606162, 241.36918013291913), (725.4635230493279, 243.60409927684486), (724.9089241655906, 245.7093447313904), (723.1172845335847, 249.73437267786284)]\n",
      "2  current coordinate (723.1172845335847, 249.73437267786284)\n",
      "2  previous coordinate (724.9089241655906, 245.7093447313904)\n",
      "Person 2 is entering the exit area\n",
      "Frame Count -  51\n",
      "1   [(880.0923491316898, 711.9986972205415), (878.2109584638044, 712.0028292429702), (876.8591309174146, 712.0040415948072), (875.0552572325953, 712.0041697209704), (874.0704283078471, 712.003923078064), (873.0707940582884, 712.0035691471514), (872.0658773308802, 711.3456896929019), (871.0595189650996, 711.0960177155705), (870.0531287239507, 711.0038236498433), (869.3762413210754, 710.9720336214723)]\n",
      "1  current coordinate (869.3762413210754, 710.9720336214723)\n",
      "1  previous coordinate (870.0531287239507, 711.0038236498433)\n",
      "2   [(737.4003993103211, 232.83634642893173), (735.3408674084762, 234.06160513494646), (733.623381069764, 236.4410711786365), (731.0594702779365, 239.91733361110332), (729.8065029624852, 240.54211014449527), (727.0901236606162, 241.36918013291913), (725.4635230493279, 243.60409927684486), (724.9089241655906, 245.7093447313904), (723.1172845335847, 249.73437267786284), (722.4872300096351, 252.5134765720062)]\n",
      "2  current coordinate (722.4872300096351, 252.5134765720062)\n",
      "2  previous coordinate (723.1172845335847, 249.73437267786284)\n",
      "Person 2 is entering the exit area\n",
      "Frame Count -  52\n"
     ]
    },
    {
     "name": "stderr",
     "output_type": "stream",
     "text": [
      "0: 384x640 2 persons, 1 tv, 62.7ms\n",
      "Speed: 1.0ms pre-process, 62.7ms inference, 1.0ms postprocess per image at shape (1, 3, 640, 640)\n",
      "\n",
      "0: 384x640 2 persons, 1 tv, 103.1ms\n",
      "Speed: 0.9ms pre-process, 103.1ms inference, 2.0ms postprocess per image at shape (1, 3, 640, 640)\n"
     ]
    },
    {
     "name": "stdout",
     "output_type": "stream",
     "text": [
      "1   [(878.2109584638044, 712.0028292429702), (876.8591309174146, 712.0040415948072), (875.0552572325953, 712.0041697209704), (874.0704283078471, 712.003923078064), (873.0707940582884, 712.0035691471514), (872.0658773308802, 711.3456896929019), (871.0595189650996, 711.0960177155705), (870.0531287239507, 711.0038236498433), (869.3762413210754, 710.9720336214723), (868.4954384744563, 710.3052993276095)]\n",
      "1  current coordinate (868.4954384744563, 710.3052993276095)\n",
      "1  previous coordinate (869.3762413210754, 710.9720336214723)\n",
      "2   [(735.3408674084762, 234.06160513494646), (733.623381069764, 236.4410711786365), (731.0594702779365, 239.91733361110332), (729.8065029624852, 240.54211014449527), (727.0901236606162, 241.36918013291913), (725.4635230493279, 243.60409927684486), (724.9089241655906, 245.7093447313904), (723.1172845335847, 249.73437267786284), (722.4872300096351, 252.5134765720062), (721.6505169106199, 253.5141351370708)]\n",
      "2  current coordinate (721.6505169106199, 253.5141351370708)\n",
      "2  previous coordinate (722.4872300096351, 252.5134765720062)\n",
      "Person 2 is entering the exit area\n",
      "Frame Count -  53\n",
      "1   [(876.8591309174146, 712.0040415948072), (875.0552572325953, 712.0041697209704), (874.0704283078471, 712.003923078064), (873.0707940582884, 712.0035691471514), (872.0658773308802, 711.3456896929019), (871.0595189650996, 711.0960177155705), (870.0531287239507, 711.0038236498433), (869.3762413210754, 710.9720336214723), (868.4954384744563, 710.3052993276095), (867.8656973560031, 710.0555049733453)]\n",
      "1  current coordinate (867.8656973560031, 710.0555049733453)\n",
      "1  previous coordinate (868.4954384744563, 710.3052993276095)\n",
      "2   [(733.623381069764, 236.4410711786365), (731.0594702779365, 239.91733361110332), (729.8065029624852, 240.54211014449527), (727.0901236606162, 241.36918013291913), (725.4635230493279, 243.60409927684486), (724.9089241655906, 245.7093447313904), (723.1172845335847, 249.73437267786284), (722.4872300096351, 252.5134765720062), (721.6505169106199, 253.5141351370708), (720.7318641902755, 253.82508219115294)]\n",
      "2  current coordinate (720.7318641902755, 253.82508219115294)\n",
      "2  previous coordinate (721.6505169106199, 253.5141351370708)\n",
      "Person 2 is entering the exit area\n"
     ]
    },
    {
     "name": "stderr",
     "output_type": "stream",
     "text": [
      "\n",
      "0: 384x640 2 persons, 1 tv, 147.5ms\n",
      "Speed: 1.0ms pre-process, 147.5ms inference, 1.0ms postprocess per image at shape (1, 3, 640, 640)\n"
     ]
    },
    {
     "name": "stdout",
     "output_type": "stream",
     "text": [
      "Frame Count -  54\n",
      "1   [(875.0552572325953, 712.0041697209704), (874.0704283078471, 712.003923078064), (873.0707940582884, 712.0035691471514), (872.0658773308802, 711.3456896929019), (871.0595189650996, 711.0960177155705), (870.0531287239507, 711.0038236498433), (869.3762413210754, 710.9720336214723), (868.4954384744563, 710.3052993276095), (867.8656973560031, 710.0555049733453), (867.0016694000237, 709.9663028412779)]\n",
      "1  current coordinate (867.0016694000237, 709.9663028412779)\n",
      "1  previous coordinate (867.8656973560031, 710.0555049733453)\n",
      "2   [(731.0594702779365, 239.91733361110332), (729.8065029624852, 240.54211014449527), (727.0901236606162, 241.36918013291913), (725.4635230493279, 243.60409927684486), (724.9089241655906, 245.7093447313904), (723.1172845335847, 249.73437267786284), (722.4872300096351, 252.5134765720062), (721.6505169106199, 253.5141351370708), (720.7318641902755, 253.82508219115294), (720.4311010460568, 253.87764976877526)]\n",
      "2  current coordinate (720.4311010460568, 253.87764976877526)\n",
      "2  previous coordinate (720.7318641902755, 253.82508219115294)\n",
      "Person 2 is entering the exit area\n"
     ]
    },
    {
     "name": "stderr",
     "output_type": "stream",
     "text": [
      "\n",
      "0: 384x640 2 persons, 1 tv, 78.9ms\n",
      "Speed: 0.9ms pre-process, 78.9ms inference, 1.0ms postprocess per image at shape (1, 3, 640, 640)\n",
      "\n",
      "0: 384x640 2 persons, 1 tv, 63.0ms\n"
     ]
    },
    {
     "name": "stdout",
     "output_type": "stream",
     "text": [
      "Frame Count -  55\n",
      "1   [(874.0704283078471, 712.003923078064), (873.0707940582884, 712.0035691471514), (872.0658773308802, 711.3456896929019), (871.0595189650996, 711.0960177155705), (870.0531287239507, 711.0038236498433), (869.3762413210754, 710.9720336214723), (868.4954384744563, 710.3052993276095), (867.8656973560031, 710.0555049733453), (867.0016694000237, 709.9663028412779), (866.3772085603858, 709.9381826889482)]\n",
      "1  current coordinate (866.3772085603858, 709.9381826889482)\n",
      "1  previous coordinate (867.0016694000237, 709.9663028412779)\n",
      "2   [(729.8065029624852, 240.54211014449527), (727.0901236606162, 241.36918013291913), (725.4635230493279, 243.60409927684486), (724.9089241655906, 245.7093447313904), (723.1172845335847, 249.73437267786284), (722.4872300096351, 252.5134765720062), (721.6505169106199, 253.5141351370708), (720.7318641902755, 253.82508219115294), (720.4311010460568, 253.87764976877526), (720.0381874259505, 253.83733574683487)]\n",
      "2  current coordinate (720.0381874259505, 253.83733574683487)\n",
      "2  previous coordinate (720.4311010460568, 253.87764976877526)\n",
      "Person 2 is entering the exit area\n",
      "Frame Count -  56\n"
     ]
    },
    {
     "name": "stderr",
     "output_type": "stream",
     "text": [
      "Speed: 2.0ms pre-process, 63.0ms inference, 1.0ms postprocess per image at shape (1, 3, 640, 640)\n",
      "\n",
      "0: 384x640 2 persons, 1 tv, 89.6ms\n",
      "Speed: 1.0ms pre-process, 89.6ms inference, 1.0ms postprocess per image at shape (1, 3, 640, 640)\n"
     ]
    },
    {
     "name": "stdout",
     "output_type": "stream",
     "text": [
      "1   [(873.0707940582884, 712.0035691471514), (872.0658773308802, 711.3456896929019), (871.0595189650996, 711.0960177155705), (870.0531287239507, 711.0038236498433), (869.3762413210754, 710.9720336214723), (868.4954384744563, 710.3052993276095), (867.8656973560031, 710.0555049733453), (867.0016694000237, 709.9663028412779), (866.3772085603858, 709.9381826889482), (865.5141919153032, 709.9330652224289)]\n",
      "1  current coordinate (865.5141919153032, 709.9330652224289)\n",
      "1  previous coordinate (866.3772085603858, 709.9381826889482)\n",
      "2   [(727.0901236606162, 241.36918013291913), (725.4635230493279, 243.60409927684486), (724.9089241655906, 245.7093447313904), (723.1172845335847, 249.73437267786284), (722.4872300096351, 252.5134765720062), (721.6505169106199, 253.5141351370708), (720.7318641902755, 253.82508219115294), (720.4311010460568, 253.87764976877526), (720.0381874259505, 253.83733574683487), (719.2801668131926, 255.72716023236518)]\n",
      "2  current coordinate (719.2801668131926, 255.72716023236518)\n",
      "2  previous coordinate (720.0381874259505, 253.83733574683487)\n",
      "Person 2 is entering the exit area\n",
      "Frame Count -  57\n",
      "1   [(872.0658773308802, 711.3456896929019), (871.0595189650996, 711.0960177155705), (870.0531287239507, 711.0038236498433), (869.3762413210754, 710.9720336214723), (868.4954384744563, 710.3052993276095), (867.8656973560031, 710.0555049733453), (867.0016694000237, 709.9663028412779), (866.3772085603858, 709.9381826889482), (865.5141919153032, 709.9330652224289), (864.5599118863536, 709.9360818900343)]\n",
      "1  current coordinate (864.5599118863536, 709.9360818900343)\n",
      "1  previous coordinate (865.5141919153032, 709.9330652224289)\n",
      "2   [(725.4635230493279, 243.60409927684486), (724.9089241655906, 245.7093447313904), (723.1172845335847, 249.73437267786284), (722.4872300096351, 252.5134765720062), (721.6505169106199, 253.5141351370708), (720.7318641902755, 253.82508219115294), (720.4311010460568, 253.87764976877526), (720.0381874259505, 253.83733574683487), (719.2801668131926, 255.72716023236518), (718.7041047058532, 259.01000457146574)]\n",
      "2  current coordinate (718.7041047058532, 259.01000457146574)\n",
      "2  previous coordinate (719.2801668131926, 255.72716023236518)\n",
      "Person 2 is entering the exit area\n"
     ]
    },
    {
     "name": "stderr",
     "output_type": "stream",
     "text": [
      "\n",
      "0: 384x640 2 persons, 1 tv, 63.7ms\n",
      "Speed: 0.9ms pre-process, 63.7ms inference, 1.0ms postprocess per image at shape (1, 3, 640, 640)\n",
      "\n"
     ]
    },
    {
     "name": "stdout",
     "output_type": "stream",
     "text": [
      "Frame Count -  58\n",
      "1   [(871.0595189650996, 711.0960177155705), (870.0531287239507, 711.0038236498433), (869.3762413210754, 710.9720336214723), (868.4954384744563, 710.3052993276095), (867.8656973560031, 710.0555049733453), (867.0016694000237, 709.9663028412779), (866.3772085603858, 709.9381826889482), (865.5141919153032, 709.9330652224289), (864.5599118863536, 709.9360818900343), (863.9007813761723, 710.6009897757772)]\n",
      "1  current coordinate (863.9007813761723, 710.6009897757772)\n",
      "1  previous coordinate (864.5599118863536, 709.9360818900343)\n",
      "2   [(724.9089241655906, 245.7093447313904), (723.1172845335847, 249.73437267786284), (722.4872300096351, 252.5134765720062), (721.6505169106199, 253.5141351370708), (720.7318641902755, 253.82508219115294), (720.4311010460568, 253.87764976877526), (720.0381874259505, 253.83733574683487), (719.2801668131926, 255.72716023236518), (718.7041047058532, 259.01000457146574), (716.5692065191026, 263.4729889892184)]\n",
      "2  current coordinate (716.5692065191026, 263.4729889892184)\n",
      "2  previous coordinate (718.7041047058532, 259.01000457146574)\n",
      "Person 2 is entering the exit area\n",
      "Frame Count -  59\n"
     ]
    },
    {
     "name": "stderr",
     "output_type": "stream",
     "text": [
      "0: 384x640 2 persons, 1 tv, 77.0ms\n",
      "Speed: 0.6ms pre-process, 77.0ms inference, 0.0ms postprocess per image at shape (1, 3, 640, 640)\n",
      "\n",
      "0: 384x640 2 persons, 1 tv, 63.8ms\n",
      "Speed: 0.0ms pre-process, 63.8ms inference, 1.0ms postprocess per image at shape (1, 3, 640, 640)\n",
      "\n"
     ]
    },
    {
     "name": "stdout",
     "output_type": "stream",
     "text": [
      "1   [(870.0531287239507, 711.0038236498433), (869.3762413210754, 710.9720336214723), (868.4954384744563, 710.3052993276095), (867.8656973560031, 710.0555049733453), (867.0016694000237, 709.9663028412779), (866.3772085603858, 709.9381826889482), (865.5141919153032, 709.9330652224289), (864.5599118863536, 709.9360818900343), (863.9007813761723, 710.6009897757772), (863.3534177297519, 710.8558562961391)]\n",
      "1  current coordinate (863.3534177297519, 710.8558562961391)\n",
      "1  previous coordinate (863.9007813761723, 710.6009897757772)\n",
      "2   [(723.1172845335847, 249.73437267786284), (722.4872300096351, 252.5134765720062), (721.6505169106199, 253.5141351370708), (720.7318641902755, 253.82508219115294), (720.4311010460568, 253.87764976877526), (720.0381874259505, 253.83733574683487), (719.2801668131926, 255.72716023236518), (718.7041047058532, 259.01000457146574), (716.5692065191026, 263.4729889892184), (714.1579493613824, 267.7376490264557)]\n",
      "2  current coordinate (714.1579493613824, 267.7376490264557)\n",
      "2  previous coordinate (716.5692065191026, 263.4729889892184)\n",
      "Person 2 is entering the exit area\n",
      "Frame Count -  60\n",
      "1   [(869.3762413210754, 710.9720336214723), (868.4954384744563, 710.3052993276095), (867.8656973560031, 710.0555049733453), (867.0016694000237, 709.9663028412779), (866.3772085603858, 709.9381826889482), (865.5141919153032, 709.9330652224289), (864.5599118863536, 709.9360818900343), (863.9007813761723, 710.6009897757772), (863.3534177297519, 710.8558562961391), (863.1770763805459, 710.9531335334862)]\n",
      "1  current coordinate (863.1770763805459, 710.9531335334862)\n",
      "1  previous coordinate (863.3534177297519, 710.8558562961391)\n",
      "2   [(722.4872300096351, 252.5134765720062), (721.6505169106199, 253.5141351370708), (720.7318641902755, 253.82508219115294), (720.4311010460568, 253.87764976877526), (720.0381874259505, 253.83733574683487), (719.2801668131926, 255.72716023236518), (718.7041047058532, 259.01000457146574), (716.5692065191026, 263.4729889892184), (714.1579493613824, 267.7376490264557), (712.6224117574945, 269.9585764693253)]\n",
      "2  current coordinate (712.6224117574945, 269.9585764693253)\n",
      "2  previous coordinate (714.1579493613824, 267.7376490264557)\n",
      "Person 2 is entering the exit area\n",
      "Frame Count -  61\n"
     ]
    },
    {
     "name": "stderr",
     "output_type": "stream",
     "text": [
      "0: 384x640 2 persons, 1 tv, 61.1ms\n",
      "Speed: 1.0ms pre-process, 61.1ms inference, 1.0ms postprocess per image at shape (1, 3, 640, 640)\n",
      "\n",
      "0: 384x640 2 persons, 1 tv, 100.5ms\n",
      "Speed: 1.0ms pre-process, 100.5ms inference, 1.0ms postprocess per image at shape (1, 3, 640, 640)\n"
     ]
    },
    {
     "name": "stdout",
     "output_type": "stream",
     "text": [
      "1   [(868.4954384744563, 710.3052993276095), (867.8656973560031, 710.0555049733453), (867.0016694000237, 709.9663028412779), (866.3772085603858, 709.9381826889482), (865.5141919153032, 709.9330652224289), (864.5599118863536, 709.9360818900343), (863.9007813761723, 710.6009897757772), (863.3534177297519, 710.8558562961391), (863.1770763805459, 710.9531335334862), (863.4693208386263, 710.3309429563147)]\n",
      "1  current coordinate (863.4693208386263, 710.3309429563147)\n",
      "1  previous coordinate (863.1770763805459, 710.9531335334862)\n",
      "2   [(721.6505169106199, 253.5141351370708), (720.7318641902755, 253.82508219115294), (720.4311010460568, 253.87764976877526), (720.0381874259505, 253.83733574683487), (719.2801668131926, 255.72716023236518), (718.7041047058532, 259.01000457146574), (716.5692065191026, 263.4729889892184), (714.1579493613824, 267.7376490264557), (712.6224117574945, 269.9585764693253), (710.7749116933182, 273.34516661853604)]\n",
      "2  current coordinate (710.7749116933182, 273.34516661853604)\n",
      "2  previous coordinate (712.6224117574945, 269.9585764693253)\n",
      "Person 2 is entering the exit area\n",
      "Frame Count -  62\n",
      "1   [(867.8656973560031, 710.0555049733453), (867.0016694000237, 709.9663028412779), (866.3772085603858, 709.9381826889482), (865.5141919153032, 709.9330652224289), (864.5599118863536, 709.9360818900343), (863.9007813761723, 710.6009897757772), (863.3534177297519, 710.8558562961391), (863.1770763805459, 710.9531335334862), (863.4693208386263, 710.3309429563147), (863.6073893986395, 710.754063313273)]\n",
      "1  current coordinate (863.6073893986395, 710.754063313273)\n",
      "1  previous coordinate (863.4693208386263, 710.3309429563147)\n",
      "2   [(720.7318641902755, 253.82508219115294), (720.4311010460568, 253.87764976877526), (720.0381874259505, 253.83733574683487), (719.2801668131926, 255.72716023236518), (718.7041047058532, 259.01000457146574), (716.5692065191026, 263.4729889892184), (714.1579493613824, 267.7376490264557), (712.6224117574945, 269.9585764693253), (710.7749116933182, 273.34516661853604), (710.4433082901661, 275.8690729765226)]\n",
      "2  current coordinate (710.4433082901661, 275.8690729765226)\n",
      "2  previous coordinate (710.7749116933182, 273.34516661853604)\n",
      "Person 2 is entering the exit area\n"
     ]
    },
    {
     "name": "stderr",
     "output_type": "stream",
     "text": [
      "\n",
      "0: 384x640 2 persons, 1 tv, 63.5ms\n",
      "Speed: 0.9ms pre-process, 63.5ms inference, 0.0ms postprocess per image at shape (1, 3, 640, 640)\n",
      "\n",
      "0: 384x640 2 persons, 1 tv, 67.4ms\n"
     ]
    },
    {
     "name": "stdout",
     "output_type": "stream",
     "text": [
      "Frame Count -  63\n",
      "1   [(867.0016694000237, 709.9663028412779), (866.3772085603858, 709.9381826889482), (865.5141919153032, 709.9330652224289), (864.5599118863536, 709.9360818900343), (863.9007813761723, 710.6009897757772), (863.3534177297519, 710.8558562961391), (863.1770763805459, 710.9531335334862), (863.4693208386263, 710.3309429563147), (863.6073893986395, 710.754063313273), (864.0113384106487, 711.5743685925547)]\n",
      "1  current coordinate (864.0113384106487, 711.5743685925547)\n",
      "1  previous coordinate (863.6073893986395, 710.754063313273)\n",
      "2   [(720.4311010460568, 253.87764976877526), (720.0381874259505, 253.83733574683487), (719.2801668131926, 255.72716023236518), (718.7041047058532, 259.01000457146574), (716.5692065191026, 263.4729889892184), (714.1579493613824, 267.7376490264557), (712.6224117574945, 269.9585764693253), (710.7749116933182, 273.34516661853604), (710.4433082901661, 275.8690729765226), (709.7133804985631, 278.7140913413765)]\n",
      "2  current coordinate (709.7133804985631, 278.7140913413765)\n",
      "2  previous coordinate (710.4433082901661, 275.8690729765226)\n",
      "Person 2 is entering the exit area\n",
      "Frame Count -  64\n"
     ]
    },
    {
     "name": "stderr",
     "output_type": "stream",
     "text": [
      "Speed: 1.0ms pre-process, 67.4ms inference, 1.0ms postprocess per image at shape (1, 3, 640, 640)\n",
      "\n",
      "0: 384x640 2 persons, 1 tv, 62.4ms\n",
      "Speed: 1.0ms pre-process, 62.4ms inference, 1.0ms postprocess per image at shape (1, 3, 640, 640)\n"
     ]
    },
    {
     "name": "stdout",
     "output_type": "stream",
     "text": [
      "1   [(866.3772085603858, 709.9381826889482), (865.5141919153032, 709.9330652224289), (864.5599118863536, 709.9360818900343), (863.9007813761723, 710.6009897757772), (863.3534177297519, 710.8558562961391), (863.1770763805459, 710.9531335334862), (863.4693208386263, 710.3309429563147), (863.6073893986395, 710.754063313273), (864.0113384106487, 711.5743685925547), (864.5122362568666, 710.5687941157914)]\n",
      "1  current coordinate (864.5122362568666, 710.5687941157914)\n",
      "1  previous coordinate (864.0113384106487, 711.5743685925547)\n",
      "2   [(720.0381874259505, 253.83733574683487), (719.2801668131926, 255.72716023236518), (718.7041047058532, 259.01000457146574), (716.5692065191026, 263.4729889892184), (714.1579493613824, 267.7376490264557), (712.6224117574945, 269.9585764693253), (710.7749116933182, 273.34516661853604), (710.4433082901661, 275.8690729765226), (709.7133804985631, 278.7140913413765), (708.1704214281757, 281.0249178885053)]\n",
      "2  current coordinate (708.1704214281757, 281.0249178885053)\n",
      "2  previous coordinate (709.7133804985631, 278.7140913413765)\n",
      "Person 2 is entering the exit area\n",
      "Frame Count -  65\n",
      "1   [(865.5141919153032, 709.9330652224289), (864.5599118863536, 709.9360818900343), (863.9007813761723, 710.6009897757772), (863.3534177297519, 710.8558562961391), (863.1770763805459, 710.9531335334862), (863.4693208386263, 710.3309429563147), (863.6073893986395, 710.754063313273), (864.0113384106487, 711.5743685925547), (864.5122362568666, 710.5687941157914), (864.7194569189885, 707.5462747750416)]\n",
      "1  current coordinate (864.7194569189885, 707.5462747750416)\n",
      "1  previous coordinate (864.5122362568666, 710.5687941157914)\n",
      "2   [(719.2801668131926, 255.72716023236518), (718.7041047058532, 259.01000457146574), (716.5692065191026, 263.4729889892184), (714.1579493613824, 267.7376490264557), (712.6224117574945, 269.9585764693253), (710.7749116933182, 273.34516661853604), (710.4433082901661, 275.8690729765226), (709.7133804985631, 278.7140913413765), (708.1704214281757, 281.0249178885053), (707.6266532895615, 282.47588152655675)]\n",
      "2  current coordinate (707.6266532895615, 282.47588152655675)\n",
      "2  previous coordinate (708.1704214281757, 281.0249178885053)\n",
      "Person 2 is entering the exit area\n"
     ]
    }
   ],
   "source": [
    "# main loop for processing\n",
    "while ret:\n",
    "    frame = cv2.resize(frame, (1280, 720))\n",
    "    frame_count += 1\n",
    "    print(\"Frame Count - \", frame_count)\n",
    "    exitDoorVertices = exitDoorROI(frame)\n",
    "    exitAreaVertices = exitAreaROI()\n",
    "    detections = peopleDetectionYOLO(frame, exitAreaVertices, exitDoorVertices)\n",
    "    peopleTrackingDeepSort(frame, detections, exitDoorVertices, exitAreaVertices)\n",
    "    \n",
    "    cv2.imshow('Video', frame)\n",
    "    if cv2.waitKey(33) & 0xFF == ord('q'):\n",
    "        break\n",
    "\n",
    "    cap_out.write(frame)\n",
    "    ret, frame = cap.read()\n",
    "\n",
    "cap.release()\n",
    "cap_out.release()\n",
    "cv2.destroyAllWindows()"
   ]
  },
  {
   "cell_type": "code",
   "execution_count": 4,
   "id": "b6f95ba6",
   "metadata": {},
   "outputs": [
    {
     "data": {
      "text/plain": [
       "(705.9700773898556, 362.35429410382244)"
      ]
     },
     "execution_count": 4,
     "metadata": {},
     "output_type": "execute_result"
    }
   ],
   "source": [
    "(705.9700773898556, 362.35429410382244)\n"
   ]
  },
  {
   "cell_type": "code",
   "execution_count": 9,
   "id": "93fe10c7",
   "metadata": {},
   "outputs": [],
   "source": [
    "if cv2.pointPolygonTest(exitDoorVertices, (705.9700773898556, 362.35429410382244), False) > 0:\n",
    "    print(\"Inside\")"
   ]
  },
  {
   "cell_type": "code",
   "execution_count": 14,
   "id": "a74b3b83",
   "metadata": {},
   "outputs": [],
   "source": [
    "a = {1: (False, True), 2: True, 3: False}"
   ]
  },
  {
   "cell_type": "code",
   "execution_count": 15,
   "id": "dee354cc",
   "metadata": {},
   "outputs": [
    {
     "name": "stdout",
     "output_type": "stream",
     "text": [
      "False\n",
      "True\n"
     ]
    }
   ],
   "source": [
    "for bools in a[1]:\n",
    "    print(bools)"
   ]
  },
  {
   "cell_type": "code",
   "execution_count": null,
   "id": "8bd80001",
   "metadata": {},
   "outputs": [],
   "source": []
  }
 ],
 "metadata": {
  "kernelspec": {
   "display_name": "Python 3 (ipykernel)",
   "language": "python",
   "name": "python3"
  },
  "language_info": {
   "codemirror_mode": {
    "name": "ipython",
    "version": 3
   },
   "file_extension": ".py",
   "mimetype": "text/x-python",
   "name": "python",
   "nbconvert_exporter": "python",
   "pygments_lexer": "ipython3",
   "version": "3.7.16"
  }
 },
 "nbformat": 4,
 "nbformat_minor": 5
}
